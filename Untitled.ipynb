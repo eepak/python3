{
 "cells": [
  {
   "cell_type": "markdown",
   "metadata": {},
   "source": [
    "# Conditional Statements"
   ]
  },
  {
   "cell_type": "code",
   "execution_count": 1,
   "metadata": {},
   "outputs": [
    {
     "ename": "NameError",
     "evalue": "name 'a' is not defined",
     "output_type": "error",
     "traceback": [
      "\u001b[1;31m---------------------------------------------------------------------------\u001b[0m",
      "\u001b[1;31mNameError\u001b[0m                                 Traceback (most recent call last)",
      "\u001b[1;32m<ipython-input-1-f045391ab631>\u001b[0m in \u001b[0;36m<module>\u001b[1;34m\u001b[0m\n\u001b[1;32m----> 1\u001b[1;33m \u001b[0ma\u001b[0m\u001b[1;33m>\u001b[0m\u001b[1;36m5\u001b[0m\u001b[1;33m\u001b[0m\u001b[1;33m\u001b[0m\u001b[0m\n\u001b[0m",
      "\u001b[1;31mNameError\u001b[0m: name 'a' is not defined"
     ]
    }
   ],
   "source": [
    "a>5"
   ]
  },
  {
   "cell_type": "code",
   "execution_count": 4,
   "metadata": {},
   "outputs": [],
   "source": [
    "a=4\n"
   ]
  },
  {
   "cell_type": "code",
   "execution_count": 5,
   "metadata": {},
   "outputs": [
    {
     "data": {
      "text/plain": [
       "False"
      ]
     },
     "execution_count": 5,
     "metadata": {},
     "output_type": "execute_result"
    }
   ],
   "source": [
    "a>5"
   ]
  },
  {
   "cell_type": "code",
   "execution_count": 6,
   "metadata": {},
   "outputs": [
    {
     "name": "stdout",
     "output_type": "stream",
     "text": [
      "enter the no3\n",
      "no\n"
     ]
    }
   ],
   "source": [
    "a=int(input('enter the no'))\n",
    "if a>5:\n",
    "    print('yes')\n",
    "elif a<5:\n",
    "      print('no')\n",
    "else:\n",
    "    print('equal')"
   ]
  },
  {
   "cell_type": "code",
   "execution_count": 7,
   "metadata": {},
   "outputs": [],
   "source": [
    "# traingle\n",
    "# 3 equal side- equilateral\n",
    "# 2 side equal- iso\n",
    "# 3 different side- scaling"
   ]
  },
  {
   "cell_type": "code",
   "execution_count": 8,
   "metadata": {},
   "outputs": [
    {
     "name": "stdout",
     "output_type": "stream",
     "text": [
      "side 1 length2\n",
      "side 2 length2\n",
      "side 3 lenght2\n",
      "equilateral\n"
     ]
    }
   ],
   "source": [
    "a= int(input('side 1 length'))\n",
    "b= int(input('side 2 length'))\n",
    "c= int(input('side 3 lenght'))\n",
    "if a==b and b==c:\n",
    "    print('equilateral')\n",
    "elif a==b or b==c or c==a:\n",
    "    print('iso')\n",
    "else:\n",
    "    print ('scaling')\n"
   ]
  },
  {
   "cell_type": "code",
   "execution_count": 9,
   "metadata": {},
   "outputs": [
    {
     "name": "stdout",
     "output_type": "stream",
     "text": [
      "side 1 length2\n",
      "side 2 length3\n",
      "side 3 lenght4\n",
      "scaling\n"
     ]
    }
   ],
   "source": [
    "a= int(input('side 1 length'))\n",
    "b= int(input('side 2 length'))\n",
    "c= int(input('side 3 lenght'))\n",
    "if a==b and b==c:\n",
    "    print('equilateral')\n",
    "elif a==b or b==c or c==a:\n",
    "    print('iso')\n",
    "else:\n",
    "    print ('scaling')\n"
   ]
  },
  {
   "cell_type": "code",
   "execution_count": 5,
   "metadata": {},
   "outputs": [
    {
     "name": "stdout",
     "output_type": "stream",
     "text": [
      "side 1 length3\n",
      "side 2 length2\n",
      "side 3 lenght2\n",
      "iso\n"
     ]
    }
   ],
   "source": [
    "a= int(input('side 1 length'))\n",
    "b= int(input('side 2 length'))\n",
    "c= int(input('side 3 lenght'))\n",
    "if a==b and b==c:\n",
    "    print('equilateral')\n",
    "elif a==b or b==c or c==a:\n",
    "    print('iso')\n",
    "else:\n",
    "    print ('scaling')\n",
    "\n",
    "    "
   ]
  },
  {
   "cell_type": "markdown",
   "metadata": {},
   "source": [
    "note that and , or are the logical operations"
   ]
  },
  {
   "cell_type": "markdown",
   "metadata": {},
   "source": [
    "# question 1- code to check the is it traingle or not? and if it is trangle then check equilateral, iso, or scaling?\n"
   ]
  },
  {
   "cell_type": "markdown",
   "metadata": {},
   "source": [
    "## maximum"
   ]
  },
  {
   "cell_type": "code",
   "execution_count": 6,
   "metadata": {},
   "outputs": [
    {
     "name": "stdout",
     "output_type": "stream",
     "text": [
      "a\n"
     ]
    }
   ],
   "source": [
    "if a>b:\n",
    "    if a>c:\n",
    "        print('a')\n",
    "    else:\n",
    "        print('c')\n",
    "else:\n",
    "    if b>c:\n",
    "        print('b')\n",
    "    else:\n",
    "        print('c')"
   ]
  },
  {
   "cell_type": "code",
   "execution_count": null,
   "metadata": {},
   "outputs": [],
   "source": []
  }
 ],
 "metadata": {
  "kernelspec": {
   "display_name": "Python 3",
   "language": "python",
   "name": "python3"
  },
  "language_info": {
   "codemirror_mode": {
    "name": "ipython",
    "version": 3
   },
   "file_extension": ".py",
   "mimetype": "text/x-python",
   "name": "python",
   "nbconvert_exporter": "python",
   "pygments_lexer": "ipython3",
   "version": "3.7.6"
  }
 },
 "nbformat": 4,
 "nbformat_minor": 4
}
